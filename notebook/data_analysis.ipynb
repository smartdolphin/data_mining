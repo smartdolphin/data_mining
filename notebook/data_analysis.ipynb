{
 "cells": [
  {
   "cell_type": "markdown",
   "metadata": {},
   "source": [
    "삼성 온라인쇼핑몰은 미국 아마존에 대항할 세계 최고의 온라인 쇼핑몰로 발돋움하기 위해 실력 있다는 Data Scientist를 총 집합시켜 데이터를 분석하기로 하였다.  삼성 온라인쇼핑몰로 초빙된 당신은 다음 데이터를 활용하여 분석을 하고자 한다.  \n",
    "\n",
    "다음은 데이터 모델링을 위해 주어지는 파일 목록이다.<br>\n",
    "<b>ds_purchase_log.csv</b> : 삼성 온라인쇼핑몰에서 8월 31일 하루 동안 발생한 구매 로그 데이터\n",
    "<b>cust_no</b> : 회원번호(상품을 구매한 회원번호) <br>\n",
    "<b>item_no</b> : 상품번호(회원이 구매한 상품번호) <br>\n",
    " \n",
    "<b>ds_customer_mst.csv</b> : 회원 마스터로, 회원정보가 수정되면 기존 정보는 그대로 있고, 수정된 정 보가 추가된다. <br>\n",
    "<b>cust_no</b> : 회원번호 <br>\n",
    "<b>age_gender</b> : 회원 연령대, 성별(연령대: 20대, 30대, 40대, 50대 이상)(성별: M-남, F-여) <br>\n",
    "<b>update_dt</b> : 수정일자 <br>\n",
    " \n",
    "<b>ds_product_mst.csv</b> : 상품 마스터<br>\n",
    "<b>item_no</b> : 상품번호 <br>\n",
    "<b>item_ctg1</b> : 상품의 대카테고리 <br>\n",
    "<b>item_ctg2</b> : 상품의 중카테고리 <br>\n",
    "<b>item_amt</b> : 매출(구매금액) <br>\n",
    " \n",
    "분석에 앞서, 다음의 전처리를 수행하여 base_table을 만든다.<br>\n",
    "ds_purchase_log.csv 로그를 기준으로 ds_customer_mst.csv에서 회원 연령대, 성별(age_gender) 정 보를 가져오고, ds_product_mst.csv에서 카테고리(item_ctg1, item_ctg2)와 매출(item_amt) 정보를 가져온다.<br>\n",
    "이 때, ds_customer_mst.csv에서 회원 연령대, 성별(age_gender)를 가져올 때, 고객별 가장 최신의 정보(고객별 update_dt가 가장 큰 정보)를 가져온다. 단, 동일 회원번호에 대해 update_dt가 동일 한데, age_gender 컬럼의 값이 다른 경우, max(age_gender)값으로 가져오시오. "
   ]
  },
  {
   "cell_type": "code",
   "execution_count": 4,
   "metadata": {},
   "outputs": [],
   "source": [
    "import pandas as pd\n",
    "import numpy as np"
   ]
  },
  {
   "cell_type": "markdown",
   "metadata": {},
   "source": [
    "## 데이터 준비"
   ]
  },
  {
   "cell_type": "code",
   "execution_count": 72,
   "metadata": {},
   "outputs": [],
   "source": [
    "log_df = pd.read_csv('ds_purchase_log.csv')\n",
    "customer_df = pd.read_csv('ds_customer_mst.csv')\n",
    "product_df = pd.read_csv('ds_product_mst.csv')"
   ]
  },
  {
   "cell_type": "code",
   "execution_count": 80,
   "metadata": {},
   "outputs": [
    {
     "data": {
      "text/html": [
       "<div>\n",
       "<style scoped>\n",
       "    .dataframe tbody tr th:only-of-type {\n",
       "        vertical-align: middle;\n",
       "    }\n",
       "\n",
       "    .dataframe tbody tr th {\n",
       "        vertical-align: top;\n",
       "    }\n",
       "\n",
       "    .dataframe thead th {\n",
       "        text-align: right;\n",
       "    }\n",
       "</style>\n",
       "<table border=\"1\" class=\"dataframe\">\n",
       "  <thead>\n",
       "    <tr style=\"text-align: right;\">\n",
       "      <th></th>\n",
       "      <th>cust_no</th>\n",
       "      <th>item_no</th>\n",
       "    </tr>\n",
       "  </thead>\n",
       "  <tbody>\n",
       "    <tr>\n",
       "      <th>count</th>\n",
       "      <td>27910.000000</td>\n",
       "      <td>27910.000000</td>\n",
       "    </tr>\n",
       "    <tr>\n",
       "      <th>mean</th>\n",
       "      <td>9612.280652</td>\n",
       "      <td>1306.250305</td>\n",
       "    </tr>\n",
       "    <tr>\n",
       "      <th>std</th>\n",
       "      <td>5499.154031</td>\n",
       "      <td>778.255095</td>\n",
       "    </tr>\n",
       "    <tr>\n",
       "      <th>min</th>\n",
       "      <td>1.000000</td>\n",
       "      <td>1.000000</td>\n",
       "    </tr>\n",
       "    <tr>\n",
       "      <th>25%</th>\n",
       "      <td>4925.250000</td>\n",
       "      <td>607.000000</td>\n",
       "    </tr>\n",
       "    <tr>\n",
       "      <th>50%</th>\n",
       "      <td>9529.500000</td>\n",
       "      <td>1302.000000</td>\n",
       "    </tr>\n",
       "    <tr>\n",
       "      <th>75%</th>\n",
       "      <td>14368.750000</td>\n",
       "      <td>1989.000000</td>\n",
       "    </tr>\n",
       "    <tr>\n",
       "      <th>max</th>\n",
       "      <td>19111.000000</td>\n",
       "      <td>2631.000000</td>\n",
       "    </tr>\n",
       "  </tbody>\n",
       "</table>\n",
       "</div>"
      ],
      "text/plain": [
       "            cust_no       item_no\n",
       "count  27910.000000  27910.000000\n",
       "mean    9612.280652   1306.250305\n",
       "std     5499.154031    778.255095\n",
       "min        1.000000      1.000000\n",
       "25%     4925.250000    607.000000\n",
       "50%     9529.500000   1302.000000\n",
       "75%    14368.750000   1989.000000\n",
       "max    19111.000000   2631.000000"
      ]
     },
     "execution_count": 80,
     "metadata": {},
     "output_type": "execute_result"
    }
   ],
   "source": [
    "log_df.describe()"
   ]
  },
  {
   "cell_type": "code",
   "execution_count": 34,
   "metadata": {},
   "outputs": [
    {
     "data": {
      "text/html": [
       "<div>\n",
       "<style scoped>\n",
       "    .dataframe tbody tr th:only-of-type {\n",
       "        vertical-align: middle;\n",
       "    }\n",
       "\n",
       "    .dataframe tbody tr th {\n",
       "        vertical-align: top;\n",
       "    }\n",
       "\n",
       "    .dataframe thead th {\n",
       "        text-align: right;\n",
       "    }\n",
       "</style>\n",
       "<table border=\"1\" class=\"dataframe\">\n",
       "  <thead>\n",
       "    <tr style=\"text-align: right;\">\n",
       "      <th></th>\n",
       "      <th>cust_no</th>\n",
       "      <th>age_gender</th>\n",
       "      <th>update_dt</th>\n",
       "    </tr>\n",
       "  </thead>\n",
       "  <tbody>\n",
       "    <tr>\n",
       "      <th>0</th>\n",
       "      <td>695</td>\n",
       "      <td>20대 F</td>\n",
       "      <td>20180825</td>\n",
       "    </tr>\n",
       "    <tr>\n",
       "      <th>1</th>\n",
       "      <td>12875</td>\n",
       "      <td>20대 M</td>\n",
       "      <td>20180825</td>\n",
       "    </tr>\n",
       "    <tr>\n",
       "      <th>2</th>\n",
       "      <td>12971</td>\n",
       "      <td>20대 F</td>\n",
       "      <td>20180825</td>\n",
       "    </tr>\n",
       "    <tr>\n",
       "      <th>3</th>\n",
       "      <td>14991</td>\n",
       "      <td>50대이상 M</td>\n",
       "      <td>20180825</td>\n",
       "    </tr>\n",
       "    <tr>\n",
       "      <th>4</th>\n",
       "      <td>14991</td>\n",
       "      <td>50대이상 M</td>\n",
       "      <td>20180825</td>\n",
       "    </tr>\n",
       "  </tbody>\n",
       "</table>\n",
       "</div>"
      ],
      "text/plain": [
       "   cust_no age_gender  update_dt\n",
       "0      695      20대 F   20180825\n",
       "1    12875      20대 M   20180825\n",
       "2    12971      20대 F   20180825\n",
       "3    14991    50대이상 M   20180825\n",
       "4    14991    50대이상 M   20180825"
      ]
     },
     "execution_count": 34,
     "metadata": {},
     "output_type": "execute_result"
    }
   ],
   "source": [
    "customer_df.head()"
   ]
  },
  {
   "cell_type": "code",
   "execution_count": 35,
   "metadata": {},
   "outputs": [
    {
     "data": {
      "text/html": [
       "<div>\n",
       "<style scoped>\n",
       "    .dataframe tbody tr th:only-of-type {\n",
       "        vertical-align: middle;\n",
       "    }\n",
       "\n",
       "    .dataframe tbody tr th {\n",
       "        vertical-align: top;\n",
       "    }\n",
       "\n",
       "    .dataframe thead th {\n",
       "        text-align: right;\n",
       "    }\n",
       "</style>\n",
       "<table border=\"1\" class=\"dataframe\">\n",
       "  <thead>\n",
       "    <tr style=\"text-align: right;\">\n",
       "      <th></th>\n",
       "      <th>item_no</th>\n",
       "      <th>item_ctg1</th>\n",
       "      <th>item_ctg2</th>\n",
       "      <th>item_amt</th>\n",
       "    </tr>\n",
       "  </thead>\n",
       "  <tbody>\n",
       "    <tr>\n",
       "      <th>0</th>\n",
       "      <td>1</td>\n",
       "      <td>식품</td>\n",
       "      <td>즉석식품</td>\n",
       "      <td>34500.0</td>\n",
       "    </tr>\n",
       "    <tr>\n",
       "      <th>1</th>\n",
       "      <td>2</td>\n",
       "      <td>생활용품</td>\n",
       "      <td>화장지</td>\n",
       "      <td>21100.0</td>\n",
       "    </tr>\n",
       "    <tr>\n",
       "      <th>2</th>\n",
       "      <td>3</td>\n",
       "      <td>의류</td>\n",
       "      <td>잠옷</td>\n",
       "      <td>72100.0</td>\n",
       "    </tr>\n",
       "    <tr>\n",
       "      <th>3</th>\n",
       "      <td>4</td>\n",
       "      <td>의류</td>\n",
       "      <td>임부복</td>\n",
       "      <td>61000.0</td>\n",
       "    </tr>\n",
       "    <tr>\n",
       "      <th>4</th>\n",
       "      <td>5</td>\n",
       "      <td>화장품</td>\n",
       "      <td>클렌징</td>\n",
       "      <td>14500.0</td>\n",
       "    </tr>\n",
       "  </tbody>\n",
       "</table>\n",
       "</div>"
      ],
      "text/plain": [
       "   item_no item_ctg1 item_ctg2  item_amt\n",
       "0        1        식품      즉석식품   34500.0\n",
       "1        2      생활용품       화장지   21100.0\n",
       "2        3        의류        잠옷   72100.0\n",
       "3        4        의류       임부복   61000.0\n",
       "4        5       화장품       클렌징   14500.0"
      ]
     },
     "execution_count": 35,
     "metadata": {},
     "output_type": "execute_result"
    }
   ],
   "source": [
    "product_df.head()"
   ]
  },
  {
   "cell_type": "code",
   "execution_count": 73,
   "metadata": {},
   "outputs": [],
   "source": [
    "n_customer_df = customer_df.join(customer_df['age_gender'].str.split(' ', 1, expand=True).rename(columns={0:'age', 1:'gender'}))"
   ]
  },
  {
   "cell_type": "code",
   "execution_count": 74,
   "metadata": {},
   "outputs": [
    {
     "data": {
      "text/html": [
       "<div>\n",
       "<style scoped>\n",
       "    .dataframe tbody tr th:only-of-type {\n",
       "        vertical-align: middle;\n",
       "    }\n",
       "\n",
       "    .dataframe tbody tr th {\n",
       "        vertical-align: top;\n",
       "    }\n",
       "\n",
       "    .dataframe thead th {\n",
       "        text-align: right;\n",
       "    }\n",
       "</style>\n",
       "<table border=\"1\" class=\"dataframe\">\n",
       "  <thead>\n",
       "    <tr style=\"text-align: right;\">\n",
       "      <th></th>\n",
       "      <th>cust_no</th>\n",
       "      <th>age</th>\n",
       "      <th>gender</th>\n",
       "      <th>update_dt</th>\n",
       "      <th>age_gender</th>\n",
       "    </tr>\n",
       "  </thead>\n",
       "  <tbody>\n",
       "    <tr>\n",
       "      <th>0</th>\n",
       "      <td>695</td>\n",
       "      <td>20대</td>\n",
       "      <td>F</td>\n",
       "      <td>20180825</td>\n",
       "      <td>20대 F</td>\n",
       "    </tr>\n",
       "    <tr>\n",
       "      <th>1</th>\n",
       "      <td>12875</td>\n",
       "      <td>20대</td>\n",
       "      <td>M</td>\n",
       "      <td>20180825</td>\n",
       "      <td>20대 M</td>\n",
       "    </tr>\n",
       "    <tr>\n",
       "      <th>2</th>\n",
       "      <td>12971</td>\n",
       "      <td>20대</td>\n",
       "      <td>F</td>\n",
       "      <td>20180825</td>\n",
       "      <td>20대 F</td>\n",
       "    </tr>\n",
       "    <tr>\n",
       "      <th>3</th>\n",
       "      <td>14991</td>\n",
       "      <td>50대이상</td>\n",
       "      <td>M</td>\n",
       "      <td>20180825</td>\n",
       "      <td>50대이상 M</td>\n",
       "    </tr>\n",
       "    <tr>\n",
       "      <th>4</th>\n",
       "      <td>14991</td>\n",
       "      <td>50대이상</td>\n",
       "      <td>M</td>\n",
       "      <td>20180825</td>\n",
       "      <td>50대이상 M</td>\n",
       "    </tr>\n",
       "  </tbody>\n",
       "</table>\n",
       "</div>"
      ],
      "text/plain": [
       "   cust_no    age gender  update_dt age_gender\n",
       "0      695    20대      F   20180825      20대 F\n",
       "1    12875    20대      M   20180825      20대 M\n",
       "2    12971    20대      F   20180825      20대 F\n",
       "3    14991  50대이상      M   20180825    50대이상 M\n",
       "4    14991  50대이상      M   20180825    50대이상 M"
      ]
     },
     "execution_count": 74,
     "metadata": {},
     "output_type": "execute_result"
    }
   ],
   "source": [
    "n_customer_df = n_customer_df[['cust_no', 'age', 'gender', 'update_dt', 'age_gender']]\n",
    "n_customer_df.head()"
   ]
  },
  {
   "cell_type": "code",
   "execution_count": 75,
   "metadata": {},
   "outputs": [
    {
     "data": {
      "text/html": [
       "<div>\n",
       "<style scoped>\n",
       "    .dataframe tbody tr th:only-of-type {\n",
       "        vertical-align: middle;\n",
       "    }\n",
       "\n",
       "    .dataframe tbody tr th {\n",
       "        vertical-align: top;\n",
       "    }\n",
       "\n",
       "    .dataframe thead th {\n",
       "        text-align: right;\n",
       "    }\n",
       "</style>\n",
       "<table border=\"1\" class=\"dataframe\">\n",
       "  <thead>\n",
       "    <tr style=\"text-align: right;\">\n",
       "      <th></th>\n",
       "      <th>cust_no</th>\n",
       "      <th>age</th>\n",
       "      <th>gender</th>\n",
       "      <th>update_dt</th>\n",
       "      <th>age_gender</th>\n",
       "    </tr>\n",
       "  </thead>\n",
       "  <tbody>\n",
       "    <tr>\n",
       "      <th>0</th>\n",
       "      <td>695</td>\n",
       "      <td>20</td>\n",
       "      <td>F</td>\n",
       "      <td>20180825</td>\n",
       "      <td>20대 F</td>\n",
       "    </tr>\n",
       "    <tr>\n",
       "      <th>1</th>\n",
       "      <td>12875</td>\n",
       "      <td>20</td>\n",
       "      <td>M</td>\n",
       "      <td>20180825</td>\n",
       "      <td>20대 M</td>\n",
       "    </tr>\n",
       "    <tr>\n",
       "      <th>2</th>\n",
       "      <td>12971</td>\n",
       "      <td>20</td>\n",
       "      <td>F</td>\n",
       "      <td>20180825</td>\n",
       "      <td>20대 F</td>\n",
       "    </tr>\n",
       "    <tr>\n",
       "      <th>3</th>\n",
       "      <td>14991</td>\n",
       "      <td>50</td>\n",
       "      <td>M</td>\n",
       "      <td>20180825</td>\n",
       "      <td>50대이상 M</td>\n",
       "    </tr>\n",
       "    <tr>\n",
       "      <th>4</th>\n",
       "      <td>14991</td>\n",
       "      <td>50</td>\n",
       "      <td>M</td>\n",
       "      <td>20180825</td>\n",
       "      <td>50대이상 M</td>\n",
       "    </tr>\n",
       "  </tbody>\n",
       "</table>\n",
       "</div>"
      ],
      "text/plain": [
       "   cust_no age gender  update_dt age_gender\n",
       "0      695  20      F   20180825      20대 F\n",
       "1    12875  20      M   20180825      20대 M\n",
       "2    12971  20      F   20180825      20대 F\n",
       "3    14991  50      M   20180825    50대이상 M\n",
       "4    14991  50      M   20180825    50대이상 M"
      ]
     },
     "execution_count": 75,
     "metadata": {},
     "output_type": "execute_result"
    }
   ],
   "source": [
    "n_customer_df['age'].replace(regex=True,\n",
    "    to_replace=['대', '이상'],\n",
    "    value='',\n",
    "    inplace=True\n",
    ")\n",
    "n_customer_df.head()"
   ]
  },
  {
   "cell_type": "code",
   "execution_count": 140,
   "metadata": {},
   "outputs": [
    {
     "data": {
      "text/html": [
       "<div>\n",
       "<style scoped>\n",
       "    .dataframe tbody tr th:only-of-type {\n",
       "        vertical-align: middle;\n",
       "    }\n",
       "\n",
       "    .dataframe tbody tr th {\n",
       "        vertical-align: top;\n",
       "    }\n",
       "\n",
       "    .dataframe thead th {\n",
       "        text-align: right;\n",
       "    }\n",
       "</style>\n",
       "<table border=\"1\" class=\"dataframe\">\n",
       "  <thead>\n",
       "    <tr style=\"text-align: right;\">\n",
       "      <th></th>\n",
       "      <th>cust_no</th>\n",
       "      <th>age</th>\n",
       "      <th>gender</th>\n",
       "      <th>update_dt</th>\n",
       "      <th>age_gender</th>\n",
       "    </tr>\n",
       "  </thead>\n",
       "  <tbody>\n",
       "    <tr>\n",
       "      <th>3191</th>\n",
       "      <td>1</td>\n",
       "      <td>40</td>\n",
       "      <td>M</td>\n",
       "      <td>20180829</td>\n",
       "      <td>40대 M</td>\n",
       "    </tr>\n",
       "    <tr>\n",
       "      <th>1684</th>\n",
       "      <td>2</td>\n",
       "      <td>40</td>\n",
       "      <td>M</td>\n",
       "      <td>20180829</td>\n",
       "      <td>40대 M</td>\n",
       "    </tr>\n",
       "    <tr>\n",
       "      <th>4710</th>\n",
       "      <td>3</td>\n",
       "      <td>40</td>\n",
       "      <td>F</td>\n",
       "      <td>20180831</td>\n",
       "      <td>40대 F</td>\n",
       "    </tr>\n",
       "    <tr>\n",
       "      <th>5923</th>\n",
       "      <td>4</td>\n",
       "      <td>20</td>\n",
       "      <td>F</td>\n",
       "      <td>20180831</td>\n",
       "      <td>20대 F</td>\n",
       "    </tr>\n",
       "    <tr>\n",
       "      <th>5114</th>\n",
       "      <td>5</td>\n",
       "      <td>40</td>\n",
       "      <td>F</td>\n",
       "      <td>20180831</td>\n",
       "      <td>40대 F</td>\n",
       "    </tr>\n",
       "  </tbody>\n",
       "</table>\n",
       "</div>"
      ],
      "text/plain": [
       "      cust_no age gender  update_dt age_gender\n",
       "3191        1  40      M   20180829      40대 M\n",
       "1684        2  40      M   20180829      40대 M\n",
       "4710        3  40      F   20180831      40대 F\n",
       "5923        4  20      F   20180831      20대 F\n",
       "5114        5  40      F   20180831      40대 F"
      ]
     },
     "execution_count": 140,
     "metadata": {},
     "output_type": "execute_result"
    }
   ],
   "source": [
    "n_customer_df = n_customer_df.sort_values(by=['cust_no', 'age_gender', 'update_dt'])\n",
    "basic_cm_df = n_customer_df.drop_duplicates(subset='cust_no', keep='last')\n",
    "basic_cm_df.head()"
   ]
  },
  {
   "cell_type": "code",
   "execution_count": 141,
   "metadata": {},
   "outputs": [],
   "source": [
    "del basic_cm_df['age_gender']"
   ]
  },
  {
   "cell_type": "code",
   "execution_count": 142,
   "metadata": {},
   "outputs": [
    {
     "data": {
      "text/html": [
       "<div>\n",
       "<style scoped>\n",
       "    .dataframe tbody tr th:only-of-type {\n",
       "        vertical-align: middle;\n",
       "    }\n",
       "\n",
       "    .dataframe tbody tr th {\n",
       "        vertical-align: top;\n",
       "    }\n",
       "\n",
       "    .dataframe thead th {\n",
       "        text-align: right;\n",
       "    }\n",
       "</style>\n",
       "<table border=\"1\" class=\"dataframe\">\n",
       "  <thead>\n",
       "    <tr style=\"text-align: right;\">\n",
       "      <th></th>\n",
       "      <th>cust_no</th>\n",
       "      <th>item_no</th>\n",
       "      <th>age</th>\n",
       "      <th>gender</th>\n",
       "      <th>update_dt</th>\n",
       "      <th>item_ctg1</th>\n",
       "      <th>item_ctg2</th>\n",
       "      <th>item_amt</th>\n",
       "    </tr>\n",
       "  </thead>\n",
       "  <tbody>\n",
       "    <tr>\n",
       "      <th>0</th>\n",
       "      <td>1</td>\n",
       "      <td>1322</td>\n",
       "      <td>40</td>\n",
       "      <td>M</td>\n",
       "      <td>20180829</td>\n",
       "      <td>의류</td>\n",
       "      <td>남성의류</td>\n",
       "      <td>94900.0</td>\n",
       "    </tr>\n",
       "    <tr>\n",
       "      <th>1</th>\n",
       "      <td>804</td>\n",
       "      <td>1322</td>\n",
       "      <td>40</td>\n",
       "      <td>M</td>\n",
       "      <td>20180831</td>\n",
       "      <td>의류</td>\n",
       "      <td>남성의류</td>\n",
       "      <td>94900.0</td>\n",
       "    </tr>\n",
       "    <tr>\n",
       "      <th>2</th>\n",
       "      <td>1062</td>\n",
       "      <td>1322</td>\n",
       "      <td>40</td>\n",
       "      <td>M</td>\n",
       "      <td>20180831</td>\n",
       "      <td>의류</td>\n",
       "      <td>남성의류</td>\n",
       "      <td>94900.0</td>\n",
       "    </tr>\n",
       "    <tr>\n",
       "      <th>3</th>\n",
       "      <td>1134</td>\n",
       "      <td>1322</td>\n",
       "      <td>30</td>\n",
       "      <td>F</td>\n",
       "      <td>20180831</td>\n",
       "      <td>의류</td>\n",
       "      <td>남성의류</td>\n",
       "      <td>94900.0</td>\n",
       "    </tr>\n",
       "    <tr>\n",
       "      <th>4</th>\n",
       "      <td>1457</td>\n",
       "      <td>1322</td>\n",
       "      <td>40</td>\n",
       "      <td>M</td>\n",
       "      <td>20180831</td>\n",
       "      <td>의류</td>\n",
       "      <td>남성의류</td>\n",
       "      <td>94900.0</td>\n",
       "    </tr>\n",
       "  </tbody>\n",
       "</table>\n",
       "</div>"
      ],
      "text/plain": [
       "   cust_no  item_no age gender  update_dt item_ctg1 item_ctg2  item_amt\n",
       "0        1     1322  40      M   20180829        의류      남성의류   94900.0\n",
       "1      804     1322  40      M   20180831        의류      남성의류   94900.0\n",
       "2     1062     1322  40      M   20180831        의류      남성의류   94900.0\n",
       "3     1134     1322  30      F   20180831        의류      남성의류   94900.0\n",
       "4     1457     1322  40      M   20180831        의류      남성의류   94900.0"
      ]
     },
     "execution_count": 142,
     "metadata": {},
     "output_type": "execute_result"
    }
   ],
   "source": [
    "a = pd.merge(log_df, basic_cm_df, on='cust_no')\n",
    "basic_table = pd.merge(a, product_df, on='item_no')\n",
    "basic_table.head()"
   ]
  },
  {
   "cell_type": "code",
   "execution_count": 143,
   "metadata": {},
   "outputs": [
    {
     "data": {
      "text/html": [
       "<div>\n",
       "<style scoped>\n",
       "    .dataframe tbody tr th:only-of-type {\n",
       "        vertical-align: middle;\n",
       "    }\n",
       "\n",
       "    .dataframe tbody tr th {\n",
       "        vertical-align: top;\n",
       "    }\n",
       "\n",
       "    .dataframe thead th {\n",
       "        text-align: right;\n",
       "    }\n",
       "</style>\n",
       "<table border=\"1\" class=\"dataframe\">\n",
       "  <thead>\n",
       "    <tr style=\"text-align: right;\">\n",
       "      <th></th>\n",
       "      <th>cust_no</th>\n",
       "      <th>item_no</th>\n",
       "      <th>update_dt</th>\n",
       "      <th>item_amt</th>\n",
       "    </tr>\n",
       "  </thead>\n",
       "  <tbody>\n",
       "    <tr>\n",
       "      <th>count</th>\n",
       "      <td>27910.000000</td>\n",
       "      <td>27910.000000</td>\n",
       "      <td>2.791000e+04</td>\n",
       "      <td>27910.000000</td>\n",
       "    </tr>\n",
       "    <tr>\n",
       "      <th>mean</th>\n",
       "      <td>9612.280652</td>\n",
       "      <td>1306.250305</td>\n",
       "      <td>2.018083e+07</td>\n",
       "      <td>60249.684701</td>\n",
       "    </tr>\n",
       "    <tr>\n",
       "      <th>std</th>\n",
       "      <td>5499.154031</td>\n",
       "      <td>778.255095</td>\n",
       "      <td>7.791361e-01</td>\n",
       "      <td>65864.865884</td>\n",
       "    </tr>\n",
       "    <tr>\n",
       "      <th>min</th>\n",
       "      <td>1.000000</td>\n",
       "      <td>1.000000</td>\n",
       "      <td>2.018083e+07</td>\n",
       "      <td>4900.000000</td>\n",
       "    </tr>\n",
       "    <tr>\n",
       "      <th>25%</th>\n",
       "      <td>4925.250000</td>\n",
       "      <td>607.000000</td>\n",
       "      <td>2.018083e+07</td>\n",
       "      <td>33600.000000</td>\n",
       "    </tr>\n",
       "    <tr>\n",
       "      <th>50%</th>\n",
       "      <td>9529.500000</td>\n",
       "      <td>1302.000000</td>\n",
       "      <td>2.018083e+07</td>\n",
       "      <td>46100.000000</td>\n",
       "    </tr>\n",
       "    <tr>\n",
       "      <th>75%</th>\n",
       "      <td>14368.750000</td>\n",
       "      <td>1989.000000</td>\n",
       "      <td>2.018083e+07</td>\n",
       "      <td>66300.000000</td>\n",
       "    </tr>\n",
       "    <tr>\n",
       "      <th>max</th>\n",
       "      <td>19111.000000</td>\n",
       "      <td>2631.000000</td>\n",
       "      <td>2.018083e+07</td>\n",
       "      <td>809400.000000</td>\n",
       "    </tr>\n",
       "  </tbody>\n",
       "</table>\n",
       "</div>"
      ],
      "text/plain": [
       "            cust_no       item_no     update_dt       item_amt\n",
       "count  27910.000000  27910.000000  2.791000e+04   27910.000000\n",
       "mean    9612.280652   1306.250305  2.018083e+07   60249.684701\n",
       "std     5499.154031    778.255095  7.791361e-01   65864.865884\n",
       "min        1.000000      1.000000  2.018083e+07    4900.000000\n",
       "25%     4925.250000    607.000000  2.018083e+07   33600.000000\n",
       "50%     9529.500000   1302.000000  2.018083e+07   46100.000000\n",
       "75%    14368.750000   1989.000000  2.018083e+07   66300.000000\n",
       "max    19111.000000   2631.000000  2.018083e+07  809400.000000"
      ]
     },
     "execution_count": 143,
     "metadata": {},
     "output_type": "execute_result"
    }
   ],
   "source": [
    "basic_table.describe()"
   ]
  },
  {
   "cell_type": "code",
   "execution_count": 144,
   "metadata": {},
   "outputs": [],
   "source": [
    "basic_table = basic_table.sort_values(by='cust_no')"
   ]
  },
  {
   "cell_type": "markdown",
   "metadata": {},
   "source": [
    "## 1번 문제\n",
    "(base_table을 활용하여 분석을 수행하시오.) 성별에 따라 어떤 대카테고리에 더 많은 매출이 발생하는지 비교하고자 한다.<br>\n",
    "매출의 비교는 대카테고리별 인당 매출금액 기준으로 하며, 인당 매출금액은 매출 총 금액을 매 출을 발생시킨 회원수를 나눈 값으로 한다. 남녀 간 비교를 위해 회원 연령대, 성별(age_gender) 을 활용하여 성별 컬럼을 만들고, 성별 대카테고리별 인당 구매금액을 산출하여, 남성 1인당 매출 액 2위인 카테고리(A)와, 여성 1인당 매출액 2위인 카테고리(B)를 차례로 쓰시오.<br>\n",
    "(답안예시) 가전,생활용품 "
   ]
  },
  {
   "cell_type": "code",
   "execution_count": 145,
   "metadata": {},
   "outputs": [
    {
     "data": {
      "text/html": [
       "<div>\n",
       "<style scoped>\n",
       "    .dataframe tbody tr th:only-of-type {\n",
       "        vertical-align: middle;\n",
       "    }\n",
       "\n",
       "    .dataframe tbody tr th {\n",
       "        vertical-align: top;\n",
       "    }\n",
       "\n",
       "    .dataframe thead th {\n",
       "        text-align: right;\n",
       "    }\n",
       "</style>\n",
       "<table border=\"1\" class=\"dataframe\">\n",
       "  <thead>\n",
       "    <tr style=\"text-align: right;\">\n",
       "      <th></th>\n",
       "      <th>cust_no</th>\n",
       "      <th>item_no</th>\n",
       "      <th>age</th>\n",
       "      <th>gender</th>\n",
       "      <th>update_dt</th>\n",
       "      <th>item_ctg1</th>\n",
       "      <th>item_ctg2</th>\n",
       "      <th>item_amt</th>\n",
       "    </tr>\n",
       "  </thead>\n",
       "  <tbody>\n",
       "    <tr>\n",
       "      <th>0</th>\n",
       "      <td>1</td>\n",
       "      <td>1322</td>\n",
       "      <td>40</td>\n",
       "      <td>M</td>\n",
       "      <td>20180829</td>\n",
       "      <td>의류</td>\n",
       "      <td>남성의류</td>\n",
       "      <td>94900.0</td>\n",
       "    </tr>\n",
       "    <tr>\n",
       "      <th>89</th>\n",
       "      <td>2</td>\n",
       "      <td>2275</td>\n",
       "      <td>40</td>\n",
       "      <td>M</td>\n",
       "      <td>20180829</td>\n",
       "      <td>의류</td>\n",
       "      <td>유아의류</td>\n",
       "      <td>36700.0</td>\n",
       "    </tr>\n",
       "    <tr>\n",
       "      <th>40</th>\n",
       "      <td>2</td>\n",
       "      <td>2273</td>\n",
       "      <td>40</td>\n",
       "      <td>M</td>\n",
       "      <td>20180829</td>\n",
       "      <td>의류</td>\n",
       "      <td>남성의류</td>\n",
       "      <td>99900.0</td>\n",
       "    </tr>\n",
       "    <tr>\n",
       "      <th>392</th>\n",
       "      <td>6</td>\n",
       "      <td>461</td>\n",
       "      <td>50</td>\n",
       "      <td>M</td>\n",
       "      <td>20180831</td>\n",
       "      <td>의류</td>\n",
       "      <td>기타의류</td>\n",
       "      <td>51200.0</td>\n",
       "    </tr>\n",
       "    <tr>\n",
       "      <th>427</th>\n",
       "      <td>7</td>\n",
       "      <td>833</td>\n",
       "      <td>20</td>\n",
       "      <td>M</td>\n",
       "      <td>20180831</td>\n",
       "      <td>식품</td>\n",
       "      <td>과자류</td>\n",
       "      <td>10100.0</td>\n",
       "    </tr>\n",
       "  </tbody>\n",
       "</table>\n",
       "</div>"
      ],
      "text/plain": [
       "     cust_no  item_no age gender  update_dt item_ctg1 item_ctg2  item_amt\n",
       "0          1     1322  40      M   20180829        의류      남성의류   94900.0\n",
       "89         2     2275  40      M   20180829        의류      유아의류   36700.0\n",
       "40         2     2273  40      M   20180829        의류      남성의류   99900.0\n",
       "392        6      461  50      M   20180831        의류      기타의류   51200.0\n",
       "427        7      833  20      M   20180831        식품       과자류   10100.0"
      ]
     },
     "execution_count": 145,
     "metadata": {},
     "output_type": "execute_result"
    }
   ],
   "source": [
    "men_df = basic_table[basic_table['gender'] == 'M']\n",
    "women_df = basic_table[basic_table['gender'] == 'F']\n",
    "men_df.head()"
   ]
  },
  {
   "cell_type": "code",
   "execution_count": 146,
   "metadata": {},
   "outputs": [
    {
     "data": {
      "text/plain": [
       "item_ctg1\n",
       "가전      130788200.0\n",
       "생활용품     46897300.0\n",
       "식품       67395700.0\n",
       "의류      604807600.0\n",
       "화장품      23177800.0\n",
       "Name: item_amt, dtype: float64"
      ]
     },
     "execution_count": 146,
     "metadata": {},
     "output_type": "execute_result"
    }
   ],
   "source": [
    "men_ctg1_sum = men_df['item_amt'].groupby(men_df['item_ctg1']).sum()\n",
    "men_ctg1_sum"
   ]
  },
  {
   "cell_type": "code",
   "execution_count": 147,
   "metadata": {},
   "outputs": [
    {
     "data": {
      "text/plain": [
       "item_ctg1\n",
       "가전       209\n",
       "생활용품    1269\n",
       "식품      1377\n",
       "의류      6836\n",
       "화장품      216\n",
       "Name: cust_no, dtype: int64"
      ]
     },
     "execution_count": 147,
     "metadata": {},
     "output_type": "execute_result"
    }
   ],
   "source": [
    "men_ctg1_num = men_df.drop_duplicates(subset='cust_no')['cust_no'].groupby(men_df['item_ctg1']).count()\n",
    "men_ctg1_num"
   ]
  },
  {
   "cell_type": "code",
   "execution_count": 148,
   "metadata": {},
   "outputs": [
    {
     "data": {
      "text/plain": [
       "item_ctg1\n",
       "가전      625780.861244\n",
       "화장품     107304.629630\n",
       "의류       88473.902867\n",
       "식품       48943.863471\n",
       "생활용품     36956.107171\n",
       "dtype: float64"
      ]
     },
     "execution_count": 148,
     "metadata": {},
     "output_type": "execute_result"
    }
   ],
   "source": [
    "result = men_ctg1_sum / men_ctg1_num\n",
    "men_rank = result.sort_values(ascending=False)\n",
    "men_rank"
   ]
  },
  {
   "cell_type": "code",
   "execution_count": 149,
   "metadata": {},
   "outputs": [
    {
     "data": {
      "text/plain": [
       "item_ctg1\n",
       "가전      119879200.0\n",
       "생활용품     39827200.0\n",
       "식품       67924300.0\n",
       "의류      560024200.0\n",
       "화장품      20847200.0\n",
       "Name: item_amt, dtype: float64"
      ]
     },
     "execution_count": 149,
     "metadata": {},
     "output_type": "execute_result"
    }
   ],
   "source": [
    "women_ctg1_sum = women_df['item_amt'].groupby(women_df['item_ctg1']).sum()\n",
    "women_ctg1_sum"
   ]
  },
  {
   "cell_type": "code",
   "execution_count": 150,
   "metadata": {},
   "outputs": [
    {
     "data": {
      "text/plain": [
       "item_ctg1\n",
       "가전       189\n",
       "생활용품    1002\n",
       "식품      1338\n",
       "의류      6431\n",
       "화장품      194\n",
       "Name: cust_no, dtype: int64"
      ]
     },
     "execution_count": 150,
     "metadata": {},
     "output_type": "execute_result"
    }
   ],
   "source": [
    "women_ctg1_num = women_df.drop_duplicates(subset='cust_no')['cust_no'].groupby(women_df['item_ctg1']).count()\n",
    "women_ctg1_num"
   ]
  },
  {
   "cell_type": "code",
   "execution_count": 151,
   "metadata": {},
   "outputs": [
    {
     "data": {
      "text/plain": [
       "item_ctg1\n",
       "가전      634281.481481\n",
       "화장품     107459.793814\n",
       "의류       87081.977919\n",
       "식품       50765.545590\n",
       "생활용품     39747.704591\n",
       "dtype: float64"
      ]
     },
     "execution_count": 151,
     "metadata": {},
     "output_type": "execute_result"
    }
   ],
   "source": [
    "result = women_ctg1_sum / women_ctg1_num\n",
    "women_rank = result.sort_values(ascending=False)\n",
    "women_rank"
   ]
  },
  {
   "cell_type": "markdown",
   "metadata": {},
   "source": [
    "## 2번 문제\n",
    "\n",
    "(base_table 또는 ds_purchase_log.csv 을 활용하여 분석을 수행하시오.) 상위 20퍼센트의 회원 이 일으킨 매출은 전체 매출의 몇 퍼센트를 차지하며, 상위 20퍼센트의 회원이 일으킨 매출은 하 위 20퍼센트의 회원이 일으킨 매출의 몇 배인지 분석하고자 한다.<br>\n",
    "상위 20퍼센트와 하위 20퍼센트를 산정하는 방식은 다음과 같다. \n",
    " \n",
    "(a) 전체 회원에 대해 회원별 구매금액에 대해 내림차순으로 순위를 매긴다. 순위는 동차발생시 동차로 등수를 주고 그 다음 순위는 동차 사람수만큼 더한 이후 그 다음 순위를 준다 (아래 예시 참조)\n",
    "\n",
    "<center><순위 예시></center>\n",
    "\n",
    "|  <center>금액</center> | <center>순위</center> |\n",
    "|:--------:|:--------:|\n",
    "|<center>5300</center>|<center>1</center> |\n",
    "|<center>5300</center>|<center>1</center>|\n",
    "|<center>5300</center>|<center>1</center>|\n",
    "|<center>5200</center>|<center>4</center>|\n",
    "|<center>5200</center>|<center>4</center>|\n",
    "\n",
    "\n",
    "(b) 상위 20퍼센트는 Rank <= N*0.2 인 회원을 의미하며, 하위 20퍼센트는 Rank >= N*0.8 인 회 원을 의미한다. (여기서 N은 base_table 또는 ds_purchase_log.csv에 구매이력이 존재하는 회원수, Rank는 위 (a)에서 만든 순위를 의미한다) \n",
    " \n",
    "상위 20퍼센트의 회원이 일으킨 매출은 전체 매출의 몇 퍼센트(A)이며, 상위 20퍼센트의 회원이 일으킨 매출은 하위 20퍼센트의 회원이 일으킨 매출의 몇 배(B) 인지 차례대로 쓰시오.\n",
    " \n",
    "- Hint : Brightics는 hive 구문 rank() over(order by) 활용\n",
    "- A, B는 소수점 아래는 버리고, 정수형으로 기술하시오. \n",
    " \n",
    "(답안예시) 15,2"
   ]
  },
  {
   "cell_type": "code",
   "execution_count": 166,
   "metadata": {},
   "outputs": [
    {
     "data": {
      "text/html": [
       "<div>\n",
       "<style scoped>\n",
       "    .dataframe tbody tr th:only-of-type {\n",
       "        vertical-align: middle;\n",
       "    }\n",
       "\n",
       "    .dataframe tbody tr th {\n",
       "        vertical-align: top;\n",
       "    }\n",
       "\n",
       "    .dataframe thead th {\n",
       "        text-align: right;\n",
       "    }\n",
       "</style>\n",
       "<table border=\"1\" class=\"dataframe\">\n",
       "  <thead>\n",
       "    <tr style=\"text-align: right;\">\n",
       "      <th></th>\n",
       "      <th>cust_no</th>\n",
       "      <th>item_no</th>\n",
       "      <th>age</th>\n",
       "      <th>gender</th>\n",
       "      <th>update_dt</th>\n",
       "      <th>item_ctg1</th>\n",
       "      <th>item_ctg2</th>\n",
       "      <th>item_amt</th>\n",
       "    </tr>\n",
       "  </thead>\n",
       "  <tbody>\n",
       "    <tr>\n",
       "      <th>0</th>\n",
       "      <td>1</td>\n",
       "      <td>1322</td>\n",
       "      <td>40</td>\n",
       "      <td>M</td>\n",
       "      <td>20180829</td>\n",
       "      <td>의류</td>\n",
       "      <td>남성의류</td>\n",
       "      <td>94900.0</td>\n",
       "    </tr>\n",
       "    <tr>\n",
       "      <th>89</th>\n",
       "      <td>2</td>\n",
       "      <td>2275</td>\n",
       "      <td>40</td>\n",
       "      <td>M</td>\n",
       "      <td>20180829</td>\n",
       "      <td>의류</td>\n",
       "      <td>유아의류</td>\n",
       "      <td>36700.0</td>\n",
       "    </tr>\n",
       "    <tr>\n",
       "      <th>40</th>\n",
       "      <td>2</td>\n",
       "      <td>2273</td>\n",
       "      <td>40</td>\n",
       "      <td>M</td>\n",
       "      <td>20180829</td>\n",
       "      <td>의류</td>\n",
       "      <td>남성의류</td>\n",
       "      <td>99900.0</td>\n",
       "    </tr>\n",
       "    <tr>\n",
       "      <th>102</th>\n",
       "      <td>3</td>\n",
       "      <td>1309</td>\n",
       "      <td>40</td>\n",
       "      <td>F</td>\n",
       "      <td>20180831</td>\n",
       "      <td>식품</td>\n",
       "      <td>간식</td>\n",
       "      <td>26000.0</td>\n",
       "    </tr>\n",
       "    <tr>\n",
       "      <th>120</th>\n",
       "      <td>3</td>\n",
       "      <td>605</td>\n",
       "      <td>40</td>\n",
       "      <td>F</td>\n",
       "      <td>20180831</td>\n",
       "      <td>의류</td>\n",
       "      <td>남성의류</td>\n",
       "      <td>98600.0</td>\n",
       "    </tr>\n",
       "    <tr>\n",
       "      <th>169</th>\n",
       "      <td>4</td>\n",
       "      <td>1411</td>\n",
       "      <td>20</td>\n",
       "      <td>F</td>\n",
       "      <td>20180831</td>\n",
       "      <td>의류</td>\n",
       "      <td>유아의류</td>\n",
       "      <td>42000.0</td>\n",
       "    </tr>\n",
       "    <tr>\n",
       "      <th>177</th>\n",
       "      <td>5</td>\n",
       "      <td>898</td>\n",
       "      <td>40</td>\n",
       "      <td>F</td>\n",
       "      <td>20180831</td>\n",
       "      <td>생활용품</td>\n",
       "      <td>화장지</td>\n",
       "      <td>20600.0</td>\n",
       "    </tr>\n",
       "    <tr>\n",
       "      <th>324</th>\n",
       "      <td>5</td>\n",
       "      <td>1272</td>\n",
       "      <td>40</td>\n",
       "      <td>F</td>\n",
       "      <td>20180831</td>\n",
       "      <td>의류</td>\n",
       "      <td>남성의류</td>\n",
       "      <td>98700.0</td>\n",
       "    </tr>\n",
       "    <tr>\n",
       "      <th>359</th>\n",
       "      <td>5</td>\n",
       "      <td>455</td>\n",
       "      <td>40</td>\n",
       "      <td>F</td>\n",
       "      <td>20180831</td>\n",
       "      <td>의류</td>\n",
       "      <td>남성의류</td>\n",
       "      <td>94000.0</td>\n",
       "    </tr>\n",
       "    <tr>\n",
       "      <th>392</th>\n",
       "      <td>6</td>\n",
       "      <td>461</td>\n",
       "      <td>50</td>\n",
       "      <td>M</td>\n",
       "      <td>20180831</td>\n",
       "      <td>의류</td>\n",
       "      <td>기타의류</td>\n",
       "      <td>51200.0</td>\n",
       "    </tr>\n",
       "  </tbody>\n",
       "</table>\n",
       "</div>"
      ],
      "text/plain": [
       "     cust_no  item_no age gender  update_dt item_ctg1 item_ctg2  item_amt\n",
       "0          1     1322  40      M   20180829        의류      남성의류   94900.0\n",
       "89         2     2275  40      M   20180829        의류      유아의류   36700.0\n",
       "40         2     2273  40      M   20180829        의류      남성의류   99900.0\n",
       "102        3     1309  40      F   20180831        식품        간식   26000.0\n",
       "120        3      605  40      F   20180831        의류      남성의류   98600.0\n",
       "169        4     1411  20      F   20180831        의류      유아의류   42000.0\n",
       "177        5      898  40      F   20180831      생활용품       화장지   20600.0\n",
       "324        5     1272  40      F   20180831        의류      남성의류   98700.0\n",
       "359        5      455  40      F   20180831        의류      남성의류   94000.0\n",
       "392        6      461  50      M   20180831        의류      기타의류   51200.0"
      ]
     },
     "execution_count": 166,
     "metadata": {},
     "output_type": "execute_result"
    }
   ],
   "source": [
    "basic_table.head(10)"
   ]
  },
  {
   "cell_type": "code",
   "execution_count": 209,
   "metadata": {},
   "outputs": [],
   "source": [
    "purchase = basic_table.sort_values(by='cust_no')\n",
    "sorted_purchase = purchase['item_amt'].groupby(purchase['cust_no']).sum().sort_values(ascending=False)"
   ]
  },
  {
   "cell_type": "code",
   "execution_count": 198,
   "metadata": {},
   "outputs": [],
   "source": [
    "def rank(dic):\n",
    "    rank_list, b_v, cnt = [], 0, 0\n",
    "    for k, v in dic.items():\n",
    "        if not rank_list:\n",
    "            rank_list.append(1)\n",
    "            cnt += 1\n",
    "        else:\n",
    "            if b_v == v:\n",
    "                rank = rank_list[-1]\n",
    "                cnt += 1\n",
    "            else:            \n",
    "                rank = rank_list[-1] + cnt\n",
    "                cnt = 1\n",
    "            rank_list.append(rank)\n",
    "        b_v = v\n",
    "    return rank_list"
   ]
  },
  {
   "cell_type": "code",
   "execution_count": 200,
   "metadata": {},
   "outputs": [
    {
     "data": {
      "text/plain": [
       "[1, 1, 1, 4, 4, 6, 7, 7, 9, 10]"
      ]
     },
     "execution_count": 200,
     "metadata": {},
     "output_type": "execute_result"
    }
   ],
   "source": [
    "rank({1:10, 2:10, 3:10, 4:11, 5:11, 6:12, 7:13, 8:13, 9:14, 10:15})"
   ]
  },
  {
   "cell_type": "code",
   "execution_count": 214,
   "metadata": {},
   "outputs": [],
   "source": [
    "N = len(sorted_purchase)"
   ]
  },
  {
   "cell_type": "code",
   "execution_count": 212,
   "metadata": {},
   "outputs": [],
   "source": [
    "sp = pd.DataFrame(sorted_purchase)\n",
    "sp['rank'] = rank(sorted_purchase)"
   ]
  },
  {
   "cell_type": "code",
   "execution_count": 213,
   "metadata": {},
   "outputs": [
    {
     "data": {
      "text/html": [
       "<div>\n",
       "<style scoped>\n",
       "    .dataframe tbody tr th:only-of-type {\n",
       "        vertical-align: middle;\n",
       "    }\n",
       "\n",
       "    .dataframe tbody tr th {\n",
       "        vertical-align: top;\n",
       "    }\n",
       "\n",
       "    .dataframe thead th {\n",
       "        text-align: right;\n",
       "    }\n",
       "</style>\n",
       "<table border=\"1\" class=\"dataframe\">\n",
       "  <thead>\n",
       "    <tr style=\"text-align: right;\">\n",
       "      <th></th>\n",
       "      <th>item_amt</th>\n",
       "      <th>rank</th>\n",
       "    </tr>\n",
       "    <tr>\n",
       "      <th>cust_no</th>\n",
       "      <th></th>\n",
       "      <th></th>\n",
       "    </tr>\n",
       "  </thead>\n",
       "  <tbody>\n",
       "    <tr>\n",
       "      <th>6932</th>\n",
       "      <td>2394000.0</td>\n",
       "      <td>1</td>\n",
       "    </tr>\n",
       "    <tr>\n",
       "      <th>4401</th>\n",
       "      <td>1978900.0</td>\n",
       "      <td>2</td>\n",
       "    </tr>\n",
       "    <tr>\n",
       "      <th>2968</th>\n",
       "      <td>1930700.0</td>\n",
       "      <td>3</td>\n",
       "    </tr>\n",
       "    <tr>\n",
       "      <th>2223</th>\n",
       "      <td>1795200.0</td>\n",
       "      <td>4</td>\n",
       "    </tr>\n",
       "    <tr>\n",
       "      <th>12049</th>\n",
       "      <td>1716000.0</td>\n",
       "      <td>5</td>\n",
       "    </tr>\n",
       "  </tbody>\n",
       "</table>\n",
       "</div>"
      ],
      "text/plain": [
       "          item_amt  rank\n",
       "cust_no                 \n",
       "6932     2394000.0     1\n",
       "4401     1978900.0     2\n",
       "2968     1930700.0     3\n",
       "2223     1795200.0     4\n",
       "12049    1716000.0     5"
      ]
     },
     "execution_count": 213,
     "metadata": {},
     "output_type": "execute_result"
    }
   ],
   "source": [
    "sp.head()"
   ]
  },
  {
   "cell_type": "code",
   "execution_count": 218,
   "metadata": {},
   "outputs": [],
   "source": [
    "# 상위 20%\n",
    "high_20 = sp[sp['rank'] <= N * 0.2]\n",
    "\n",
    "# 하위 20% \n",
    "low_20 = sp[sp['rank'] >= N * 0.8]"
   ]
  },
  {
   "cell_type": "code",
   "execution_count": 221,
   "metadata": {},
   "outputs": [
    {
     "data": {
      "text/html": [
       "<div>\n",
       "<style scoped>\n",
       "    .dataframe tbody tr th:only-of-type {\n",
       "        vertical-align: middle;\n",
       "    }\n",
       "\n",
       "    .dataframe tbody tr th {\n",
       "        vertical-align: top;\n",
       "    }\n",
       "\n",
       "    .dataframe thead th {\n",
       "        text-align: right;\n",
       "    }\n",
       "</style>\n",
       "<table border=\"1\" class=\"dataframe\">\n",
       "  <thead>\n",
       "    <tr style=\"text-align: right;\">\n",
       "      <th></th>\n",
       "      <th>item_amt</th>\n",
       "      <th>rank</th>\n",
       "    </tr>\n",
       "    <tr>\n",
       "      <th>cust_no</th>\n",
       "      <th></th>\n",
       "      <th></th>\n",
       "    </tr>\n",
       "  </thead>\n",
       "  <tbody>\n",
       "    <tr>\n",
       "      <th>6932</th>\n",
       "      <td>2394000.0</td>\n",
       "      <td>1</td>\n",
       "    </tr>\n",
       "    <tr>\n",
       "      <th>4401</th>\n",
       "      <td>1978900.0</td>\n",
       "      <td>2</td>\n",
       "    </tr>\n",
       "    <tr>\n",
       "      <th>2968</th>\n",
       "      <td>1930700.0</td>\n",
       "      <td>3</td>\n",
       "    </tr>\n",
       "    <tr>\n",
       "      <th>2223</th>\n",
       "      <td>1795200.0</td>\n",
       "      <td>4</td>\n",
       "    </tr>\n",
       "    <tr>\n",
       "      <th>12049</th>\n",
       "      <td>1716000.0</td>\n",
       "      <td>5</td>\n",
       "    </tr>\n",
       "  </tbody>\n",
       "</table>\n",
       "</div>"
      ],
      "text/plain": [
       "          item_amt  rank\n",
       "cust_no                 \n",
       "6932     2394000.0     1\n",
       "4401     1978900.0     2\n",
       "2968     1930700.0     3\n",
       "2223     1795200.0     4\n",
       "12049    1716000.0     5"
      ]
     },
     "execution_count": 221,
     "metadata": {},
     "output_type": "execute_result"
    }
   ],
   "source": [
    "high_20.head()"
   ]
  },
  {
   "cell_type": "code",
   "execution_count": 227,
   "metadata": {},
   "outputs": [
    {
     "name": "stdout",
     "output_type": "stream",
     "text": [
      "826011100.0 90639900.0 1681568700.0\n"
     ]
    }
   ],
   "source": [
    "high_20_sale = high_20['item_amt'].sum()\n",
    "low_20_sale = low_20['item_amt'].sum()\n",
    "total_sale = purchase['item_amt'].sum()\n",
    "print(high_20_sale, low_20_sale, total_sale)"
   ]
  },
  {
   "cell_type": "code",
   "execution_count": 228,
   "metadata": {},
   "outputs": [
    {
     "data": {
      "text/plain": [
       "49.121460217474315"
      ]
     },
     "execution_count": 228,
     "metadata": {},
     "output_type": "execute_result"
    }
   ],
   "source": [
    "a = high_20_sale / total_sale * 100\n",
    "a"
   ]
  },
  {
   "cell_type": "code",
   "execution_count": 230,
   "metadata": {},
   "outputs": [
    {
     "data": {
      "text/plain": [
       "9.113106920903487"
      ]
     },
     "execution_count": 230,
     "metadata": {},
     "output_type": "execute_result"
    }
   ],
   "source": [
    "b = high_20_sale / low_20_sale\n",
    "b"
   ]
  },
  {
   "cell_type": "code",
   "execution_count": null,
   "metadata": {},
   "outputs": [],
   "source": []
  },
  {
   "cell_type": "markdown",
   "metadata": {},
   "source": [
    "## 3번 문제\n",
    "\n",
    " (base_table을 활용하여 분석을 수행하시오.) 회원별 구매금액이 연령대별로 차이가 있는지 비 교하고자 회원 연령대, 성별(age_gender)을 활용하여 연령대(age_cls) 컬럼을 만들고 다음 분석을 수행한다.<br>\n",
    " 각 회원별 구매한 총 구매금액(y)을 산출하고, 회원의 연령대 그룹을 매핑한다. 연령대 그룹(x)은 age_cls가 '30대'이면 그룹이 ‘G1’, age_cls가 '40대'이면 그룹이 ‘G2’, age_cls가 그 외 연령대이면 그룹이 ‘G3’이다.<br>\n",
    " 연령대 그룹(x)에 따라 회원별 구매한 총 구매금액(y)이 차이가 있는지 ANOVA를 수행하고, ANOVA의 F-통계량 추정치(A)를 구하시오. 또한, 사후검정으로 Duncan Test(alpha=0.05)를 수행하 여 평균구매금액 순으로 오름차순하고, 그 결과를 등호, 부등호로 표기하시오.\n",
    " \n",
    "- A는 소수점 아래는 버리고, 정수형으로 기술하시오.\n",
    "- B는 회원별 구매한 총 구매금액(y)의 평균이 그룹 G1, G2, G3 순으로 크고, Duncan Test 결과가 1, 2가 같다면 G1=G2>G3으로 표기한다.\n",
    " \n",
    "(답안예시) 3,G1=G2>G3"
   ]
  },
  {
   "cell_type": "code",
   "execution_count": 378,
   "metadata": {},
   "outputs": [
    {
     "data": {
      "text/html": [
       "<div>\n",
       "<style scoped>\n",
       "    .dataframe tbody tr th:only-of-type {\n",
       "        vertical-align: middle;\n",
       "    }\n",
       "\n",
       "    .dataframe tbody tr th {\n",
       "        vertical-align: top;\n",
       "    }\n",
       "\n",
       "    .dataframe thead th {\n",
       "        text-align: right;\n",
       "    }\n",
       "</style>\n",
       "<table border=\"1\" class=\"dataframe\">\n",
       "  <thead>\n",
       "    <tr style=\"text-align: right;\">\n",
       "      <th></th>\n",
       "      <th>cust_no</th>\n",
       "      <th>item_no</th>\n",
       "      <th>age</th>\n",
       "      <th>gender</th>\n",
       "      <th>update_dt</th>\n",
       "      <th>item_ctg1</th>\n",
       "      <th>item_ctg2</th>\n",
       "      <th>item_amt</th>\n",
       "    </tr>\n",
       "  </thead>\n",
       "  <tbody>\n",
       "    <tr>\n",
       "      <th>0</th>\n",
       "      <td>1</td>\n",
       "      <td>1322</td>\n",
       "      <td>40</td>\n",
       "      <td>M</td>\n",
       "      <td>20180829</td>\n",
       "      <td>의류</td>\n",
       "      <td>남성의류</td>\n",
       "      <td>94900.0</td>\n",
       "    </tr>\n",
       "    <tr>\n",
       "      <th>89</th>\n",
       "      <td>2</td>\n",
       "      <td>2275</td>\n",
       "      <td>40</td>\n",
       "      <td>M</td>\n",
       "      <td>20180829</td>\n",
       "      <td>의류</td>\n",
       "      <td>유아의류</td>\n",
       "      <td>36700.0</td>\n",
       "    </tr>\n",
       "    <tr>\n",
       "      <th>40</th>\n",
       "      <td>2</td>\n",
       "      <td>2273</td>\n",
       "      <td>40</td>\n",
       "      <td>M</td>\n",
       "      <td>20180829</td>\n",
       "      <td>의류</td>\n",
       "      <td>남성의류</td>\n",
       "      <td>99900.0</td>\n",
       "    </tr>\n",
       "    <tr>\n",
       "      <th>102</th>\n",
       "      <td>3</td>\n",
       "      <td>1309</td>\n",
       "      <td>40</td>\n",
       "      <td>F</td>\n",
       "      <td>20180831</td>\n",
       "      <td>식품</td>\n",
       "      <td>간식</td>\n",
       "      <td>26000.0</td>\n",
       "    </tr>\n",
       "    <tr>\n",
       "      <th>120</th>\n",
       "      <td>3</td>\n",
       "      <td>605</td>\n",
       "      <td>40</td>\n",
       "      <td>F</td>\n",
       "      <td>20180831</td>\n",
       "      <td>의류</td>\n",
       "      <td>남성의류</td>\n",
       "      <td>98600.0</td>\n",
       "    </tr>\n",
       "  </tbody>\n",
       "</table>\n",
       "</div>"
      ],
      "text/plain": [
       "     cust_no  item_no age gender  update_dt item_ctg1 item_ctg2  item_amt\n",
       "0          1     1322  40      M   20180829        의류      남성의류   94900.0\n",
       "89         2     2275  40      M   20180829        의류      유아의류   36700.0\n",
       "40         2     2273  40      M   20180829        의류      남성의류   99900.0\n",
       "102        3     1309  40      F   20180831        식품        간식   26000.0\n",
       "120        3      605  40      F   20180831        의류      남성의류   98600.0"
      ]
     },
     "execution_count": 378,
     "metadata": {},
     "output_type": "execute_result"
    }
   ],
   "source": [
    "basic_table.head()"
   ]
  },
  {
   "cell_type": "code",
   "execution_count": 380,
   "metadata": {},
   "outputs": [],
   "source": [
    "G1 = basic_table[basic_table['age'] == 30]\n",
    "G2 = basic_table[basic_table['age'] == 40]"
   ]
  },
  {
   "cell_type": "code",
   "execution_count": 393,
   "metadata": {},
   "outputs": [
    {
     "data": {
      "text/html": [
       "<div>\n",
       "<style scoped>\n",
       "    .dataframe tbody tr th:only-of-type {\n",
       "        vertical-align: middle;\n",
       "    }\n",
       "\n",
       "    .dataframe tbody tr th {\n",
       "        vertical-align: top;\n",
       "    }\n",
       "\n",
       "    .dataframe thead th {\n",
       "        text-align: right;\n",
       "    }\n",
       "</style>\n",
       "<table border=\"1\" class=\"dataframe\">\n",
       "  <thead>\n",
       "    <tr style=\"text-align: right;\">\n",
       "      <th></th>\n",
       "      <th>cust_no</th>\n",
       "      <th>item_no</th>\n",
       "      <th>age</th>\n",
       "      <th>gender</th>\n",
       "      <th>update_dt</th>\n",
       "      <th>item_ctg1</th>\n",
       "      <th>item_ctg2</th>\n",
       "      <th>item_amt</th>\n",
       "    </tr>\n",
       "  </thead>\n",
       "  <tbody>\n",
       "    <tr>\n",
       "      <th>169</th>\n",
       "      <td>4</td>\n",
       "      <td>1411</td>\n",
       "      <td>20</td>\n",
       "      <td>F</td>\n",
       "      <td>20180831</td>\n",
       "      <td>의류</td>\n",
       "      <td>유아의류</td>\n",
       "      <td>42000.0</td>\n",
       "    </tr>\n",
       "    <tr>\n",
       "      <th>427</th>\n",
       "      <td>7</td>\n",
       "      <td>833</td>\n",
       "      <td>20</td>\n",
       "      <td>M</td>\n",
       "      <td>20180831</td>\n",
       "      <td>식품</td>\n",
       "      <td>과자류</td>\n",
       "      <td>10100.0</td>\n",
       "    </tr>\n",
       "    <tr>\n",
       "      <th>452</th>\n",
       "      <td>7</td>\n",
       "      <td>2264</td>\n",
       "      <td>20</td>\n",
       "      <td>M</td>\n",
       "      <td>20180831</td>\n",
       "      <td>의류</td>\n",
       "      <td>여성의류</td>\n",
       "      <td>61400.0</td>\n",
       "    </tr>\n",
       "    <tr>\n",
       "      <th>407</th>\n",
       "      <td>7</td>\n",
       "      <td>2514</td>\n",
       "      <td>20</td>\n",
       "      <td>M</td>\n",
       "      <td>20180831</td>\n",
       "      <td>의류</td>\n",
       "      <td>아동/주니어의류</td>\n",
       "      <td>42400.0</td>\n",
       "    </tr>\n",
       "    <tr>\n",
       "      <th>441</th>\n",
       "      <td>7</td>\n",
       "      <td>2471</td>\n",
       "      <td>20</td>\n",
       "      <td>M</td>\n",
       "      <td>20180831</td>\n",
       "      <td>의류</td>\n",
       "      <td>기타의류</td>\n",
       "      <td>47500.0</td>\n",
       "    </tr>\n",
       "  </tbody>\n",
       "</table>\n",
       "</div>"
      ],
      "text/plain": [
       "     cust_no  item_no age gender  update_dt item_ctg1 item_ctg2  item_amt\n",
       "169        4     1411  20      F   20180831        의류      유아의류   42000.0\n",
       "427        7      833  20      M   20180831        식품       과자류   10100.0\n",
       "452        7     2264  20      M   20180831        의류      여성의류   61400.0\n",
       "407        7     2514  20      M   20180831        의류  아동/주니어의류   42400.0\n",
       "441        7     2471  20      M   20180831        의류      기타의류   47500.0"
      ]
     },
     "execution_count": 393,
     "metadata": {},
     "output_type": "execute_result"
    }
   ],
   "source": [
    "a = basic_table[basic_table['age'].astype(int) < 30]\n",
    "b = basic_table[basic_table['age'].astype(int) > 40]\n",
    "G3 = pd.concat([a, b])\n",
    "G3.head()"
   ]
  },
  {
   "cell_type": "code",
   "execution_count": null,
   "metadata": {},
   "outputs": [],
   "source": []
  },
  {
   "cell_type": "markdown",
   "metadata": {},
   "source": [
    "## 4번 문제\n",
    "(base_table을 활용하여 분석을 수행하시오.) 함께 구매되는 상품이 어떤지 분석하여 상품 상세 페이지에 ‘함께 구매하는 상품’으로 추천하기 위해, 구매 로그의 중카테고리 기준으로 연관성 분 석(Association Rule)을 수행하고자 한다. 하나의 중카테고리만 구매한 이력이 있는 회원은 제외하 고, 둘 이상의 중카테고리를 구매한 회원의 구매 이력을 기반으로 연관성 분석을 수행하고, 중카 테고리가 ‘농산물’인 상품의 상세 페이지에 함께 노출되면 좋을 Lift 기준의 가장 적합한 중카테고 리를 구하시오. (단, Min Support는 0.001 이상, Min Confidence는 0.001 이상 이어야 한다.)\n",
    " \n",
    "(답안예시) 스포츠의류"
   ]
  },
  {
   "cell_type": "code",
   "execution_count": 1,
   "metadata": {},
   "outputs": [],
   "source": [
    "import apyori"
   ]
  },
  {
   "cell_type": "code",
   "execution_count": 319,
   "metadata": {},
   "outputs": [
    {
     "data": {
      "text/html": [
       "<div>\n",
       "<style scoped>\n",
       "    .dataframe tbody tr th:only-of-type {\n",
       "        vertical-align: middle;\n",
       "    }\n",
       "\n",
       "    .dataframe tbody tr th {\n",
       "        vertical-align: top;\n",
       "    }\n",
       "\n",
       "    .dataframe thead th {\n",
       "        text-align: right;\n",
       "    }\n",
       "</style>\n",
       "<table border=\"1\" class=\"dataframe\">\n",
       "  <thead>\n",
       "    <tr style=\"text-align: right;\">\n",
       "      <th></th>\n",
       "      <th>cust_no</th>\n",
       "      <th>item_no</th>\n",
       "      <th>age</th>\n",
       "      <th>gender</th>\n",
       "      <th>update_dt</th>\n",
       "      <th>item_ctg1</th>\n",
       "      <th>item_ctg2</th>\n",
       "      <th>item_amt</th>\n",
       "    </tr>\n",
       "  </thead>\n",
       "  <tbody>\n",
       "    <tr>\n",
       "      <th>0</th>\n",
       "      <td>1</td>\n",
       "      <td>1322</td>\n",
       "      <td>40</td>\n",
       "      <td>M</td>\n",
       "      <td>20180829</td>\n",
       "      <td>의류</td>\n",
       "      <td>남성의류</td>\n",
       "      <td>94900.0</td>\n",
       "    </tr>\n",
       "    <tr>\n",
       "      <th>89</th>\n",
       "      <td>2</td>\n",
       "      <td>2275</td>\n",
       "      <td>40</td>\n",
       "      <td>M</td>\n",
       "      <td>20180829</td>\n",
       "      <td>의류</td>\n",
       "      <td>유아의류</td>\n",
       "      <td>36700.0</td>\n",
       "    </tr>\n",
       "    <tr>\n",
       "      <th>40</th>\n",
       "      <td>2</td>\n",
       "      <td>2273</td>\n",
       "      <td>40</td>\n",
       "      <td>M</td>\n",
       "      <td>20180829</td>\n",
       "      <td>의류</td>\n",
       "      <td>남성의류</td>\n",
       "      <td>99900.0</td>\n",
       "    </tr>\n",
       "    <tr>\n",
       "      <th>102</th>\n",
       "      <td>3</td>\n",
       "      <td>1309</td>\n",
       "      <td>40</td>\n",
       "      <td>F</td>\n",
       "      <td>20180831</td>\n",
       "      <td>식품</td>\n",
       "      <td>간식</td>\n",
       "      <td>26000.0</td>\n",
       "    </tr>\n",
       "    <tr>\n",
       "      <th>120</th>\n",
       "      <td>3</td>\n",
       "      <td>605</td>\n",
       "      <td>40</td>\n",
       "      <td>F</td>\n",
       "      <td>20180831</td>\n",
       "      <td>의류</td>\n",
       "      <td>남성의류</td>\n",
       "      <td>98600.0</td>\n",
       "    </tr>\n",
       "  </tbody>\n",
       "</table>\n",
       "</div>"
      ],
      "text/plain": [
       "     cust_no  item_no age gender  update_dt item_ctg1 item_ctg2  item_amt\n",
       "0          1     1322  40      M   20180829        의류      남성의류   94900.0\n",
       "89         2     2275  40      M   20180829        의류      유아의류   36700.0\n",
       "40         2     2273  40      M   20180829        의류      남성의류   99900.0\n",
       "102        3     1309  40      F   20180831        식품        간식   26000.0\n",
       "120        3      605  40      F   20180831        의류      남성의류   98600.0"
      ]
     },
     "execution_count": 319,
     "metadata": {},
     "output_type": "execute_result"
    }
   ],
   "source": [
    "basic_table.head()"
   ]
  },
  {
   "cell_type": "code",
   "execution_count": 353,
   "metadata": {},
   "outputs": [
    {
     "data": {
      "text/html": [
       "<div>\n",
       "<style scoped>\n",
       "    .dataframe tbody tr th:only-of-type {\n",
       "        vertical-align: middle;\n",
       "    }\n",
       "\n",
       "    .dataframe tbody tr th {\n",
       "        vertical-align: top;\n",
       "    }\n",
       "\n",
       "    .dataframe thead th {\n",
       "        text-align: right;\n",
       "    }\n",
       "</style>\n",
       "<table border=\"1\" class=\"dataframe\">\n",
       "  <thead>\n",
       "    <tr style=\"text-align: right;\">\n",
       "      <th></th>\n",
       "      <th>cust_no</th>\n",
       "      <th>item_ctg2</th>\n",
       "    </tr>\n",
       "  </thead>\n",
       "  <tbody>\n",
       "    <tr>\n",
       "      <th>0</th>\n",
       "      <td>1</td>\n",
       "      <td>남성의류</td>\n",
       "    </tr>\n",
       "    <tr>\n",
       "      <th>89</th>\n",
       "      <td>2</td>\n",
       "      <td>유아의류</td>\n",
       "    </tr>\n",
       "    <tr>\n",
       "      <th>40</th>\n",
       "      <td>2</td>\n",
       "      <td>남성의류</td>\n",
       "    </tr>\n",
       "    <tr>\n",
       "      <th>102</th>\n",
       "      <td>3</td>\n",
       "      <td>간식</td>\n",
       "    </tr>\n",
       "    <tr>\n",
       "      <th>120</th>\n",
       "      <td>3</td>\n",
       "      <td>남성의류</td>\n",
       "    </tr>\n",
       "  </tbody>\n",
       "</table>\n",
       "</div>"
      ],
      "text/plain": [
       "     cust_no item_ctg2\n",
       "0          1      남성의류\n",
       "89         2      유아의류\n",
       "40         2      남성의류\n",
       "102        3        간식\n",
       "120        3      남성의류"
      ]
     },
     "execution_count": 353,
     "metadata": {},
     "output_type": "execute_result"
    }
   ],
   "source": [
    "hist = basic_table['item_ctg2'].groupby(basic_table['cust_no']).count()\n",
    "b = basic_table[['cust_no', 'item_ctg2']].sort_values(by='cust_no')\n",
    "b.head()"
   ]
  },
  {
   "cell_type": "code",
   "execution_count": 354,
   "metadata": {},
   "outputs": [],
   "source": [
    "t = pd.DataFrame(hist.index, columns=['cust_no', 'freq'])\n",
    "t['freq'] = hist.values"
   ]
  },
  {
   "cell_type": "code",
   "execution_count": 355,
   "metadata": {},
   "outputs": [
    {
     "data": {
      "text/html": [
       "<div>\n",
       "<style scoped>\n",
       "    .dataframe tbody tr th:only-of-type {\n",
       "        vertical-align: middle;\n",
       "    }\n",
       "\n",
       "    .dataframe tbody tr th {\n",
       "        vertical-align: top;\n",
       "    }\n",
       "\n",
       "    .dataframe thead th {\n",
       "        text-align: right;\n",
       "    }\n",
       "</style>\n",
       "<table border=\"1\" class=\"dataframe\">\n",
       "  <thead>\n",
       "    <tr style=\"text-align: right;\">\n",
       "      <th></th>\n",
       "      <th>cust_no</th>\n",
       "      <th>freq</th>\n",
       "    </tr>\n",
       "  </thead>\n",
       "  <tbody>\n",
       "    <tr>\n",
       "      <th>0</th>\n",
       "      <td>1</td>\n",
       "      <td>1</td>\n",
       "    </tr>\n",
       "    <tr>\n",
       "      <th>1</th>\n",
       "      <td>2</td>\n",
       "      <td>2</td>\n",
       "    </tr>\n",
       "    <tr>\n",
       "      <th>2</th>\n",
       "      <td>3</td>\n",
       "      <td>2</td>\n",
       "    </tr>\n",
       "    <tr>\n",
       "      <th>3</th>\n",
       "      <td>4</td>\n",
       "      <td>1</td>\n",
       "    </tr>\n",
       "    <tr>\n",
       "      <th>4</th>\n",
       "      <td>5</td>\n",
       "      <td>3</td>\n",
       "    </tr>\n",
       "  </tbody>\n",
       "</table>\n",
       "</div>"
      ],
      "text/plain": [
       "   cust_no  freq\n",
       "0        1     1\n",
       "1        2     2\n",
       "2        3     2\n",
       "3        4     1\n",
       "4        5     3"
      ]
     },
     "execution_count": 355,
     "metadata": {},
     "output_type": "execute_result"
    }
   ],
   "source": [
    "t.head()"
   ]
  },
  {
   "cell_type": "code",
   "execution_count": 358,
   "metadata": {},
   "outputs": [],
   "source": [
    "result = pd.merge(b, t, on='cust_no')\n",
    "last = result[result['freq'] > 1]"
   ]
  },
  {
   "cell_type": "code",
   "execution_count": 367,
   "metadata": {},
   "outputs": [],
   "source": [
    "unique = last.drop_duplicates('cust_no')\n",
    "N = len(unique)"
   ]
  },
  {
   "cell_type": "code",
   "execution_count": 372,
   "metadata": {},
   "outputs": [],
   "source": [
    "collection = []\n",
    "for x in unique['cust_no']:\n",
    "    collection.append(last[last['cust_no'] == x]['item_ctg2'].tolist())"
   ]
  },
  {
   "cell_type": "code",
   "execution_count": 373,
   "metadata": {},
   "outputs": [],
   "source": [
    "rules = apyori.apriori(collection, min_support = 0.001, min_confidence = 0.001, min_lift = 3, min_length = 2)"
   ]
  },
  {
   "cell_type": "code",
   "execution_count": null,
   "metadata": {},
   "outputs": [],
   "source": [
    "results = list(rules)"
   ]
  },
  {
   "cell_type": "code",
   "execution_count": 375,
   "metadata": {},
   "outputs": [
    {
     "data": {
      "text/plain": [
       "[RelationRecord(items=frozenset({'농산물', '가공식품'}), support=0.004843396835647401, ordered_statistics=[OrderedStatistic(items_base=frozenset({'가공식품'}), items_add=frozenset({'농산물'}), confidence=0.2777777777777778, lift=7.448292448292448), OrderedStatistic(items_base=frozenset({'농산물'}), items_add=frozenset({'가공식품'}), confidence=0.12987012987012986, lift=7.448292448292448)]),\n",
       " RelationRecord(items=frozenset({'수산축산물', '가공식품'}), support=0.0017759121730707135, ordered_statistics=[OrderedStatistic(items_base=frozenset({'가공식품'}), items_add=frozenset({'수산축산물'}), confidence=0.10185185185185186, lift=3.5642393806235617), OrderedStatistic(items_base=frozenset({'수산축산물'}), items_add=frozenset({'가공식품'}), confidence=0.06214689265536723, lift=3.5642393806235617)]),\n",
       " RelationRecord(items=frozenset({'수산축산물', '농산물'}), support=0.0033903777849531806, ordered_statistics=[OrderedStatistic(items_base=frozenset({'농산물'}), items_add=frozenset({'수산축산물'}), confidence=0.09090909090909091, lift=3.1813045711350796), OrderedStatistic(items_base=frozenset({'수산축산물'}), items_add=frozenset({'농산물'}), confidence=0.11864406779661017, lift=3.1813045711350796)])]"
      ]
     },
     "execution_count": 375,
     "metadata": {},
     "output_type": "execute_result"
    }
   ],
   "source": [
    "results"
   ]
  },
  {
   "cell_type": "code",
   "execution_count": 376,
   "metadata": {},
   "outputs": [],
   "source": [
    "def summary_apriori(results):\n",
    "\n",
    "    summary_df = pd.DataFrame(columns=('Items','Antecedent','Consequent','Support','Confidence','Lift'))\n",
    "\n",
    "    Support =[]\n",
    "    Confidence = []\n",
    "    Lift = []\n",
    "    Items = []\n",
    "    Antecedent = []\n",
    "    Consequent=[]\n",
    "\n",
    "    for RelationRecord in results: \n",
    "        for ordered_stat in RelationRecord.ordered_statistics:\n",
    "            Support.append(RelationRecord.support)\n",
    "            Items.append(RelationRecord.items)\n",
    "            Antecedent.append(ordered_stat.items_base)\n",
    "            Consequent.append(ordered_stat.items_add)\n",
    "            Confidence.append(ordered_stat.confidence)\n",
    "            Lift.append(ordered_stat.lift)\n",
    "\n",
    "    summary_df['Items'] = Items                                   \n",
    "    summary_df['Antecedent'] = Antecedent\n",
    "    summary_df['Consequent'] = Consequent\n",
    "    summary_df['Support'] = Support\n",
    "    summary_df['Confidence'] = Confidence\n",
    "    summary_df['Lift']= Lift\n",
    "    \n",
    "    return(summary_df)"
   ]
  },
  {
   "cell_type": "code",
   "execution_count": 377,
   "metadata": {},
   "outputs": [
    {
     "data": {
      "text/html": [
       "<div>\n",
       "<style scoped>\n",
       "    .dataframe tbody tr th:only-of-type {\n",
       "        vertical-align: middle;\n",
       "    }\n",
       "\n",
       "    .dataframe tbody tr th {\n",
       "        vertical-align: top;\n",
       "    }\n",
       "\n",
       "    .dataframe thead th {\n",
       "        text-align: right;\n",
       "    }\n",
       "</style>\n",
       "<table border=\"1\" class=\"dataframe\">\n",
       "  <thead>\n",
       "    <tr style=\"text-align: right;\">\n",
       "      <th></th>\n",
       "      <th>Items</th>\n",
       "      <th>Antecedent</th>\n",
       "      <th>Consequent</th>\n",
       "      <th>Support</th>\n",
       "      <th>Confidence</th>\n",
       "      <th>Lift</th>\n",
       "    </tr>\n",
       "  </thead>\n",
       "  <tbody>\n",
       "    <tr>\n",
       "      <th>0</th>\n",
       "      <td>(농산물, 가공식품)</td>\n",
       "      <td>(가공식품)</td>\n",
       "      <td>(농산물)</td>\n",
       "      <td>0.004843</td>\n",
       "      <td>0.277778</td>\n",
       "      <td>7.448292</td>\n",
       "    </tr>\n",
       "    <tr>\n",
       "      <th>1</th>\n",
       "      <td>(농산물, 가공식품)</td>\n",
       "      <td>(농산물)</td>\n",
       "      <td>(가공식품)</td>\n",
       "      <td>0.004843</td>\n",
       "      <td>0.129870</td>\n",
       "      <td>7.448292</td>\n",
       "    </tr>\n",
       "  </tbody>\n",
       "</table>\n",
       "</div>"
      ],
      "text/plain": [
       "         Items Antecedent Consequent   Support  Confidence      Lift\n",
       "0  (농산물, 가공식품)     (가공식품)      (농산물)  0.004843    0.277778  7.448292\n",
       "1  (농산물, 가공식품)      (농산물)     (가공식품)  0.004843    0.129870  7.448292"
      ]
     },
     "execution_count": 377,
     "metadata": {},
     "output_type": "execute_result"
    }
   ],
   "source": [
    "summary_df=summary_apriori(results).sort_values('Lift',ascending=False)\n",
    "summary_df.head(n=2)"
   ]
  },
  {
   "cell_type": "code",
   "execution_count": null,
   "metadata": {},
   "outputs": [],
   "source": []
  }
 ],
 "metadata": {
  "anaconda-cloud": {},
  "kernelspec": {
   "display_name": "Python [default]",
   "language": "python",
   "name": "python3"
  },
  "language_info": {
   "codemirror_mode": {
    "name": "ipython",
    "version": 3
   },
   "file_extension": ".py",
   "mimetype": "text/x-python",
   "name": "python",
   "nbconvert_exporter": "python",
   "pygments_lexer": "ipython3",
   "version": "3.5.4"
  }
 },
 "nbformat": 4,
 "nbformat_minor": 2
}
